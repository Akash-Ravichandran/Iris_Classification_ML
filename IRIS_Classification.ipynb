{
  "nbformat": 4,
  "nbformat_minor": 0,
  "metadata": {
    "colab": {
      "name": "IRIS Classification.ipynb",
      "provenance": [],
      "collapsed_sections": [],
      "authorship_tag": "ABX9TyM06JTzp/wIJWSPW06+cWA8"
    },
    "kernelspec": {
      "name": "python3",
      "display_name": "Python 3"
    }
  },
  "cells": [
    {
      "cell_type": "code",
      "metadata": {
        "id": "c13uQIYGw0-2",
        "colab_type": "code",
        "colab": {}
      },
      "source": [
        "import pandas as pd\n",
        "import numpy as np\n",
        "import matplotlib.pyplot as plt"
      ],
      "execution_count": 0,
      "outputs": []
    },
    {
      "cell_type": "code",
      "metadata": {
        "id": "IBQF7OSixQ1a",
        "colab_type": "code",
        "colab": {}
      },
      "source": [
        "#Loading the dataset\n",
        "from sklearn.datasets import load_iris\n",
        "iris = load_iris()"
      ],
      "execution_count": 0,
      "outputs": []
    },
    {
      "cell_type": "markdown",
      "metadata": {
        "id": "NB8lcBlkzIAq",
        "colab_type": "text"
      },
      "source": [
        "## Separating X & Y and Splitting the train & test"
      ]
    },
    {
      "cell_type": "code",
      "metadata": {
        "id": "GZhIhuZbylJr",
        "colab_type": "code",
        "colab": {}
      },
      "source": [
        "#Separating X & y\n",
        "X = iris.data\n",
        "y = iris.target\n",
        "\n",
        "from sklearn.model_selection import train_test_split\n",
        "X_train, X_test, y_train, y_test = train_test_split(X,y, test_size=0.3, random_state=1)"
      ],
      "execution_count": 0,
      "outputs": []
    },
    {
      "cell_type": "markdown",
      "metadata": {
        "id": "oQe4Kzv7zoUC",
        "colab_type": "text"
      },
      "source": [
        "## Naive Bayes"
      ]
    },
    {
      "cell_type": "code",
      "metadata": {
        "id": "cKRIRJRTy2ES",
        "colab_type": "code",
        "outputId": "f076a847-62e2-4980-f482-c1b0253330fc",
        "colab": {
          "base_uri": "https://localhost:8080/",
          "height": 105
        }
      },
      "source": [
        "from sklearn.naive_bayes import GaussianNB\n",
        "gnb = GaussianNB()\n",
        "gnb.fit(X_train, y_train)\n",
        "y_pred_nb = gnb.predict(X_test)\n",
        "\n",
        "from sklearn import metrics\n",
        "print('Gaussian Naive Bayes model accuracy(in%):', metrics.accuracy_score(y_test, y_pred_nb)*100)\n",
        "class_names = iris.target_names\n",
        "print(class_names)\n",
        "\n",
        "print('Confusion Matrix   the Gaussioan Naive Bayes Classfier', metrics.confusion_matrix(y_test, y_pred_nb))"
      ],
      "execution_count": 0,
      "outputs": [
        {
          "output_type": "stream",
          "text": [
            "Gaussian Naive Bayes model accuracy(in%): 93.33333333333333\n",
            "['setosa' 'versicolor' 'virginica']\n",
            "Confusion Matrix   the Gaussioan Naive Bayes Classfier [[14  0  0]\n",
            " [ 0 16  2]\n",
            " [ 0  1 12]]\n"
          ],
          "name": "stdout"
        }
      ]
    },
    {
      "cell_type": "markdown",
      "metadata": {
        "id": "pnXcdRPv0hS8",
        "colab_type": "text"
      },
      "source": [
        "## K Nearest Neighbor"
      ]
    },
    {
      "cell_type": "code",
      "metadata": {
        "id": "zMl1wVUxyqhq",
        "colab_type": "code",
        "outputId": "3c94a7ba-c050-413b-8135-d4c9ff3c7a95",
        "colab": {
          "base_uri": "https://localhost:8080/",
          "height": 105
        }
      },
      "source": [
        "from sklearn.neighbors import KNeighborsClassifier\n",
        "neigh = KNeighborsClassifier(n_neighbors=3)\n",
        "neigh.fit(X_train, y_train)\n",
        "y_pred_knn = neigh.predict(X_test)\n",
        "\n",
        "from sklearn import metrics\n",
        "print('KNN model accuracy(in%):', metrics.accuracy_score(y_test, y_pred_knn)*100)\n",
        "class_names = iris.target_names\n",
        "print(class_names)\n",
        "print('Confusion Matrix the KNN Classfier', metrics.confusion_matrix(y_test, y_pred_knn))\n"
      ],
      "execution_count": 0,
      "outputs": [
        {
          "output_type": "stream",
          "text": [
            "KNN model accuracy(in%): 97.77777777777777\n",
            "['setosa' 'versicolor' 'virginica']\n",
            "Confusion Matrix the KNN Classfier [[14  0  0]\n",
            " [ 0 18  0]\n",
            " [ 0  1 12]]\n"
          ],
          "name": "stdout"
        }
      ]
    },
    {
      "cell_type": "markdown",
      "metadata": {
        "id": "xETAMPwP1ZWe",
        "colab_type": "text"
      },
      "source": [
        "## Decision Tree"
      ]
    },
    {
      "cell_type": "code",
      "metadata": {
        "id": "DSzCxnSa1b9G",
        "colab_type": "code",
        "outputId": "73560ce3-a8be-4ecb-a918-2a66004e2695",
        "colab": {
          "base_uri": "https://localhost:8080/",
          "height": 105
        }
      },
      "source": [
        "#Applying Decision Tree\n",
        "from sklearn import tree\n",
        "#Create tree object\n",
        "decision_tree = tree.DecisionTreeClassifier(criterion='gini')\n",
        "#Train DT based on scaled training set\n",
        "decision_tree.fit(X_train, y_train)\n",
        "y_pred_dt = decision_tree.predict(X_test)\n",
        "\n",
        "from sklearn import metrics\n",
        "print('Decision Tree model accuracy(in%):', metrics.accuracy_score(y_test, y_pred_dt)*100)\n",
        "class_names = iris.target_names\n",
        "print(class_names)\n",
        "print('Confusion Matrix the DT Classfier', metrics.confusion_matrix(y_test, y_pred_dt))"
      ],
      "execution_count": 0,
      "outputs": [
        {
          "output_type": "stream",
          "text": [
            "Decision Tree model accuracy(in%): 95.55555555555556\n",
            "['setosa' 'versicolor' 'virginica']\n",
            "Confusion Matrix the DT Classfier [[14  0  0]\n",
            " [ 0 17  1]\n",
            " [ 0  1 12]]\n"
          ],
          "name": "stdout"
        }
      ]
    },
    {
      "cell_type": "markdown",
      "metadata": {
        "id": "BQmxsFFQ4Lpb",
        "colab_type": "text"
      },
      "source": [
        "## Random Forest"
      ]
    },
    {
      "cell_type": "code",
      "metadata": {
        "id": "5BMHDVQS4PUL",
        "colab_type": "code",
        "outputId": "70fa599a-693f-4122-d9ef-3145f7ff18c3",
        "colab": {
          "base_uri": "https://localhost:8080/",
          "height": 105
        }
      },
      "source": [
        "#Applying RandomForest\n",
        "from sklearn.ensemble import RandomForestClassifier\n",
        "#Create Random Forest object\n",
        "random_forest = RandomForestClassifier()\n",
        "#Train model\n",
        "random_forest.fit(X_train, y_train)\n",
        "y_pred_rf = random_forest.predict(X_test)\n",
        "\n",
        "from sklearn import metrics\n",
        "print('Random Forest model accuracy(in%):', metrics.accuracy_score(y_test, y_pred_rf)*100)\n",
        "class_names = iris.target_names\n",
        "print(class_names)\n",
        "print('Confusion Matrix the RF Classfier', metrics.confusion_matrix(y_test, y_pred_rf))"
      ],
      "execution_count": 0,
      "outputs": [
        {
          "output_type": "stream",
          "text": [
            "Random Forest model accuracy(in%): 95.55555555555556\n",
            "['setosa' 'versicolor' 'virginica']\n",
            "Confusion Matrix the RF Classfier [[14  0  0]\n",
            " [ 0 17  1]\n",
            " [ 0  1 12]]\n"
          ],
          "name": "stdout"
        }
      ]
    },
    {
      "cell_type": "markdown",
      "metadata": {
        "id": "AZOQkwPU4rjy",
        "colab_type": "text"
      },
      "source": [
        "##Support Vector Classifier"
      ]
    },
    {
      "cell_type": "code",
      "metadata": {
        "id": "A9nR7Pxq4yqb",
        "colab_type": "code",
        "outputId": "2edad519-9702-4fb7-bf9a-205029119416",
        "colab": {
          "base_uri": "https://localhost:8080/",
          "height": 105
        }
      },
      "source": [
        "#Applying SVC (Support Vector Classification)\n",
        "from sklearn.svm import SVC\n",
        "\n",
        "svm = SVC(kernel='rbf', random_state=0, gamma=.10, C=1.0)\n",
        "svm.fit(X_train, y_train)\n",
        "y_pred_svc = svm.predict(X_test)\n",
        "\n",
        "from sklearn import metrics\n",
        "print('SVC  model accuracy(in%):', metrics.accuracy_score(y_test, y_pred_svc)*100)\n",
        "class_names = iris.target_names\n",
        "print(class_names)\n",
        "print('Confusion Matrix the SVC Classfier', metrics.confusion_matrix(y_test, y_pred_svc))"
      ],
      "execution_count": 0,
      "outputs": [
        {
          "output_type": "stream",
          "text": [
            "SVC  model accuracy(in%): 97.77777777777777\n",
            "['setosa' 'versicolor' 'virginica']\n",
            "Confusion Matrix the SVC Classfier [[14  0  0]\n",
            " [ 0 17  1]\n",
            " [ 0  0 13]]\n"
          ],
          "name": "stdout"
        }
      ]
    },
    {
      "cell_type": "markdown",
      "metadata": {
        "id": "SzYNhQq363F_",
        "colab_type": "text"
      },
      "source": [
        "## XG Boost"
      ]
    },
    {
      "cell_type": "code",
      "metadata": {
        "id": "9b4aMTFm68EM",
        "colab_type": "code",
        "outputId": "88b197b2-5d84-4393-eb8c-1aaa5f5f0cea",
        "colab": {
          "base_uri": "https://localhost:8080/",
          "height": 105
        }
      },
      "source": [
        "import xgboost as xgb\n",
        "xgb_clf = xgb.XGBClassifier()\n",
        "xgb_clf = xgb_clf.fit(X_train, y_train)\n",
        "y_pred_xgb = xgb_clf.predict(X_test)\n",
        "\n",
        "from sklearn import metrics\n",
        "print('XG_Boost  model accuracy(in%):', metrics.accuracy_score(y_test, y_pred_xgb)*100)\n",
        "class_names = iris.target_names\n",
        "print(class_names)\n",
        "print('Confusion Matrix the XGB Classfier', metrics.confusion_matrix(y_test, y_pred_xgb))"
      ],
      "execution_count": 0,
      "outputs": [
        {
          "output_type": "stream",
          "text": [
            "XG_Boost  model accuracy(in%): 95.55555555555556\n",
            "['setosa' 'versicolor' 'virginica']\n",
            "Confusion Matrix the XGB Classfier [[14  0  0]\n",
            " [ 0 17  1]\n",
            " [ 0  1 12]]\n"
          ],
          "name": "stdout"
        }
      ]
    },
    {
      "cell_type": "markdown",
      "metadata": {
        "id": "iBjRYUOrKRMk",
        "colab_type": "text"
      },
      "source": [
        "# Conclusion \n",
        "This notebook explored 6 basic machine learning algorithms. In the majority of them, the accuracy was higher in the training dataset, as expected. In the ones it was lower, the difference in not significant. The accuracy for those cases should be evaluated with a cross validation and not only with a single fold. Using cross validation will probably result in higher accuracy for all algorithms. This dataset is very simple, so maybe we cannot note significant improvement in the algorithms."
      ]
    }
  ]
}